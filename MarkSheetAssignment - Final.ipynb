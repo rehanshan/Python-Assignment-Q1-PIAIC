{
 "cells": [
  {
   "cell_type": "code",
   "execution_count": 7,
   "metadata": {},
   "outputs": [
    {
     "name": "stdout",
     "output_type": "stream",
     "text": [
      "Enter Your NameFareed\n",
      "English Marks98\n",
      "Urdu Marks78\n",
      "Math Marks67\n",
      "Islamiyat Marks87\n",
      "Physics Marks66\n",
      "Chemistry Marks56\n",
      "Total Marks600\n"
     ]
    },
    {
     "ename": "NameError",
     "evalue": "name 'avg' is not defined",
     "output_type": "error",
     "traceback": [
      "\u001b[1;31m---------------------------------------------------------------------------\u001b[0m",
      "\u001b[1;31mNameError\u001b[0m                                 Traceback (most recent call last)",
      "\u001b[1;32m<ipython-input-7-3fef8dfbe2fd>\u001b[0m in \u001b[0;36m<module>\u001b[1;34m\u001b[0m\n\u001b[0;32m     15\u001b[0m \u001b[1;32mif\u001b[0m\u001b[1;33m(\u001b[0m\u001b[0mtotalPercentage\u001b[0m\u001b[1;33m>=\u001b[0m\u001b[1;36m80\u001b[0m\u001b[1;33m)\u001b[0m\u001b[1;33m:\u001b[0m\u001b[1;33m\u001b[0m\u001b[1;33m\u001b[0m\u001b[0m\n\u001b[0;32m     16\u001b[0m     \u001b[0muserGrade\u001b[0m\u001b[1;33m=\u001b[0m\u001b[1;34m'A+'\u001b[0m\u001b[1;33m\u001b[0m\u001b[1;33m\u001b[0m\u001b[0m\n\u001b[1;32m---> 17\u001b[1;33m \u001b[1;32melif\u001b[0m\u001b[1;33m(\u001b[0m\u001b[0mtotalPercentage\u001b[0m\u001b[1;33m>=\u001b[0m\u001b[1;36m70\u001b[0m \u001b[1;32mand\u001b[0m \u001b[0mavg\u001b[0m\u001b[1;33m<\u001b[0m\u001b[1;36m80\u001b[0m\u001b[1;33m)\u001b[0m\u001b[1;33m:\u001b[0m\u001b[1;33m\u001b[0m\u001b[1;33m\u001b[0m\u001b[0m\n\u001b[0m\u001b[0;32m     18\u001b[0m     \u001b[0muserGrade\u001b[0m\u001b[1;33m=\u001b[0m\u001b[1;34m'A'\u001b[0m\u001b[1;33m\u001b[0m\u001b[1;33m\u001b[0m\u001b[0m\n\u001b[0;32m     19\u001b[0m \u001b[1;32melif\u001b[0m\u001b[1;33m(\u001b[0m\u001b[0mtotalPercentage\u001b[0m\u001b[1;33m>=\u001b[0m\u001b[1;36m60\u001b[0m \u001b[1;32mand\u001b[0m \u001b[0mavg\u001b[0m\u001b[1;33m<\u001b[0m\u001b[1;36m70\u001b[0m\u001b[1;33m)\u001b[0m\u001b[1;33m:\u001b[0m\u001b[1;33m\u001b[0m\u001b[1;33m\u001b[0m\u001b[0m\n",
      "\u001b[1;31mNameError\u001b[0m: name 'avg' is not defined"
     ]
    }
   ],
   "source": [
    "import csv\n",
    "userName = input(\"Enter Your Name\")\n",
    "englishMarks = float(input(\"English Marks\"))\n",
    "urduMarks = float(input(\"Urdu Marks\"))\n",
    "mathMarks = float(input(\"Math Marks\"))\n",
    "islamiyatMarks = float(input(\"Islamiyat Marks\"))\n",
    "physicsMarks = float(input(\"Physics Marks\"))\n",
    "chemistryMarks = float(input(\"Chemistry Marks\"))\n",
    "totalMarks = float(input(\"Total Marks\"))\n",
    "obtainMarks = englishMarks + urduMarks + mathMarks + islamiyatMarks + physicsMarks + chemistryMarks\n",
    "userGrade = ''\n",
    "\n",
    "totalPercentage = float(obtainMarks / totalMarks * 100)\n",
    "\n",
    "if(totalPercentage>=80):\n",
    "    userGrade='A+'\n",
    "elif(totalPercentage>=70 and totalPercentage<80):\n",
    "    userGrade='A'\n",
    "elif(totalPercentage>=60 and totalPercentage<70):\n",
    "    userGrade='B'\n",
    "elif(totalPercentage>=50 and totalPercentage<60):\n",
    "    userGrade='D'\n",
    "elif(totalPercentage>=40 and totalPercentage<50):\n",
    "    userGrade='E'\n",
    "else:\n",
    "    userGrade='F'\n",
    "\n",
    "\n",
    "userData = [userName,englishMarks,urduMarks,mathMarks,islamiyatMarks,physicsMarks,chemistryMarks,obtainMarks,totalMarks,float(totalPercentage),userGrade]\n",
    "\n",
    "with open(\"MarkSheet.csv\",\"w\" ,newline=\"\") as f:\n",
    "\n",
    "        file_handler = csv.writer(f, delimiter=',')    \n",
    "        \n",
    "        file_handler.writerow([\"Name\",\"English\",\"Urdu\",\"Math\",\"Islamiyat\",\"Physics\",\"Chemistry\",\"Obtain Marks\",\"Total Marks\",\"Percentage\",\"Grade\"])\n",
    "        file_handler.writerow(userData)\n",
    "\n"
   ]
  },
  {
   "cell_type": "code",
   "execution_count": null,
   "metadata": {},
   "outputs": [],
   "source": []
  },
  {
   "cell_type": "code",
   "execution_count": null,
   "metadata": {},
   "outputs": [],
   "source": []
  }
 ],
 "metadata": {
  "kernelspec": {
   "display_name": "Python 3",
   "language": "python",
   "name": "python3"
  },
  "language_info": {
   "codemirror_mode": {
    "name": "ipython",
    "version": 3
   },
   "file_extension": ".py",
   "mimetype": "text/x-python",
   "name": "python",
   "nbconvert_exporter": "python",
   "pygments_lexer": "ipython3",
   "version": "3.7.3"
  }
 },
 "nbformat": 4,
 "nbformat_minor": 2
}
