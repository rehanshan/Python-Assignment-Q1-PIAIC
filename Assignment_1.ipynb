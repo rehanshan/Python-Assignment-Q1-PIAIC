{
 "cells": [
  {
   "cell_type": "code",
   "execution_count": 11,
   "metadata": {},
   "outputs": [
    {
     "name": "stdout",
     "output_type": "stream",
     "text": [
      "6.285714285714286\n"
     ]
    }
   ],
   "source": [
    "# S.No. 1 : Python program which accepts the radius of a circle and compute the area\n",
    "\n",
    "def circle_area(radius):\n",
    "    area = (22/7)*radius\n",
    "    return area;\n",
    "print (circle_area(2))"
   ]
  },
  {
   "cell_type": "code",
   "execution_count": 17,
   "metadata": {},
   "outputs": [
    {
     "name": "stdout",
     "output_type": "stream",
     "text": [
      "Number is negative\n"
     ]
    }
   ],
   "source": [
    "# S.No.2 : Python program to check if a number is positive, negative or zero\n",
    "def check_number(my_number):\n",
    "    if my_number < 0:\n",
    "        print(\"Number is negative\")\n",
    "    \n",
    "    elif my_number == 0:\n",
    "        print(\"Its zero\")\n",
    "        \n",
    "    else:\n",
    "        print(\"Number is positive\")\n",
    "\n",
    "check_number(-4)"
   ]
  },
  {
   "cell_type": "code",
   "execution_count": 26,
   "metadata": {},
   "outputs": [
    {
     "name": "stdout",
     "output_type": "stream",
     "text": [
      "19 is NOT completely divisble by 5\n"
     ]
    }
   ],
   "source": [
    "# S.No.3 : check whether a number is completely divisible.\n",
    "def completely_divisible(numerator, denominator):\n",
    "    if numerator % denominator == 0:\n",
    "        print(str(numerator) + \" is completely divisble by \" + str(denominator))\n",
    "    \n",
    "    else:\n",
    "        print(str(numerator) + \" is NOT completely divisble by \" + str(denominator))\n",
    "\n",
    "completely_divisible(19, 5)"
   ]
  },
  {
   "cell_type": "code",
   "execution_count": 32,
   "metadata": {},
   "outputs": [
    {
     "data": {
      "text/plain": [
       "14"
      ]
     },
     "execution_count": 32,
     "metadata": {},
     "output_type": "execute_result"
    }
   ],
   "source": [
    "# S.No.4 : accepts an integer (n) and computes the value of (n + nn + nnn)\n",
    "def compute_value(my_integar):\n",
    "    # may be calculated this way\n",
    "    #    value = (my_integar + (my_integar*my_integar) + (my_integar*my_integar*my_integar))\n",
    "    # or may be this way\n",
    "    value = my_integar + pow(my_integar, 2) + pow(my_integar, 3)\n",
    "    return value;\n",
    "compute_value(2)"
   ]
  },
  {
   "cell_type": "code",
   "execution_count": 42,
   "metadata": {},
   "outputs": [
    {
     "name": "stdout",
     "output_type": "stream",
     "text": [
      "30\n"
     ]
    }
   ],
   "source": [
    "# S.No.5 : calculate number of days between two dates    \n",
    "first_date = date(2019, 6, 27)\n",
    "second_date = date(2019, 7, 27)\n",
    "difference = second_date - first_date\n",
    "print(difference.days)"
   ]
  },
  {
   "cell_type": "code",
   "execution_count": 44,
   "metadata": {},
   "outputs": [
    {
     "name": "stdout",
     "output_type": "stream",
     "text": [
      "33.52380952380952\n"
     ]
    }
   ],
   "source": [
    "# S.No.6 : volume of a sphere, please take the radius as input from user. V=4 / 3 πr3\n",
    "def sphere_volume(radius):\n",
    "    volume = (4/3)*(22/7)*(pow(radius, 3))\n",
    "    return volume;\n",
    "print (sphere_volume(2))"
   ]
  },
  {
   "cell_type": "code",
   "execution_count": 52,
   "metadata": {},
   "outputs": [
    {
     "name": "stdout",
     "output_type": "stream",
     "text": [
      "Please Enter a number greater or equal to 17: 3\n",
      "Please Enter a number greater or equal to 17: 20\n",
      "3\n"
     ]
    }
   ],
   "source": [
    "# S.No.7 : get the difference between a given number and 17, difference cannot be negative\n",
    "def difference():\n",
    "    my_number = 0\n",
    "    while my_number < 17:\n",
    "        my_number = int(input(\"Please Enter a number greater or equal to 17: \"))\n",
    "    return my_number;    \n",
    "print(difference()-17)\n"
   ]
  },
  {
   "cell_type": "code",
   "execution_count": 66,
   "metadata": {},
   "outputs": [
    {
     "data": {
      "text/plain": [
       "'rehanis'"
      ]
     },
     "execution_count": 66,
     "metadata": {},
     "output_type": "execute_result"
    }
   ],
   "source": [
    "# S.No.8 : get a new string from a given string where \"Is\" has been added to the front.\n",
    "#If the given string already begins with \"Is\" then return the string unchanged\n",
    "def contains_is(my_string):\n",
    "    if \"is\" in my_string:\n",
    "        new_string = my_string\n",
    "    else:\n",
    "        new_string = \"is\" + my_string\n",
    "    return new_string\n",
    "contains_is('rehanis')"
   ]
  },
  {
   "cell_type": "code",
   "execution_count": 67,
   "metadata": {},
   "outputs": [],
   "source": [
    "# S.No. 9 : get a string which is n (non-negative integer) copies of a given string\n",
    "# obtai faizan help"
   ]
  },
  {
   "cell_type": "code",
   "execution_count": 70,
   "metadata": {},
   "outputs": [
    {
     "name": "stdout",
     "output_type": "stream",
     "text": [
      "Enter a number :9\n",
      "Number is odd\n"
     ]
    }
   ],
   "source": [
    "# S.No. 10 : whether a given number (accept from the user) is even or odd, print out an appropriate message to the user.\n",
    "my_number = int(input(\"Enter a number :\"))\n",
    "if my_number % 2 == 0:\n",
    "    print(\"Number is even\")\n",
    "else:\n",
    "    print(\"Number is odd\")"
   ]
  },
  {
   "cell_type": "code",
   "execution_count": 5,
   "metadata": {},
   "outputs": [
    {
     "name": "stdout",
     "output_type": "stream",
     "text": [
      "a is a veowel\n"
     ]
    }
   ],
   "source": [
    "# S.No. 11 : whether a passed letter is a vowel or not\n",
    "def check_vowel(my_letter):\n",
    "    vowels = ['a', 'e', 'i', 'o', 'u']\n",
    "    if my_letter.lower() in vowels:\n",
    "        print(my_letter + \" is a veowel\")\n",
    "    else:\n",
    "        print()\n",
    "check_vowel('a')"
   ]
  },
  {
   "cell_type": "code",
   "execution_count": 7,
   "metadata": {},
   "outputs": [
    {
     "name": "stdout",
     "output_type": "stream",
     "text": [
      "10.0\n"
     ]
    }
   ],
   "source": [
    "# S.No. 12 : accept the base and height of a triangle and compute the area\n",
    "def triangle_area(base, height):\n",
    "    area = (1/2)*(base*height)\n",
    "    return area;\n",
    "print (triangle_area(4,5))"
   ]
  },
  {
   "cell_type": "code",
   "execution_count": 27,
   "metadata": {},
   "outputs": [],
   "source": [
    "# S.No. 13 : return true if the two given integer values are equal or their sum or difference is 5.\n",
    "def check_numbers(my_integar1, myintegar2):\n",
    "    if (my_integar1 == myintegar2) or (my_integar1 + myintegar2) == 5 or abs((my_integar1 - myintegar2)) == 5:\n",
    "        return True;\n",
    "\n",
    "check_numbers(3, 34)"
   ]
  },
  {
   "cell_type": "code",
   "execution_count": 39,
   "metadata": {},
   "outputs": [
    {
     "data": {
      "text/plain": [
       "36"
      ]
     },
     "execution_count": 39,
     "metadata": {},
     "output_type": "execute_result"
    }
   ],
   "source": [
    "# S.No. 14 : solve (x + y) * (x + y)\n",
    "def solve(x, y):\n",
    "#    value = (x + y) * (x + y)\n",
    "    value = pow(x, 2) + (2 * x * y) + pow(y, 2)\n",
    "    return value;\n",
    "\n",
    "solve(3, 3)"
   ]
  },
  {
   "cell_type": "code",
   "execution_count": 66,
   "metadata": {},
   "outputs": [
    {
     "data": {
      "text/plain": [
       "1650.0"
      ]
     },
     "execution_count": 66,
     "metadata": {},
     "output_type": "execute_result"
    }
   ],
   "source": [
    "# S.No.15 : compute the future value of a specified principal amount, rate of interest, and a number of years.\n",
    "def future_value(principal, interest_rate, years):\n",
    "    interest = principal* (interest_rate/100) * years\n",
    "    loan_future_value = principal + interest\n",
    "    return loan_future_value;\n",
    "\n",
    "future_value (1000, 13, 5)"
   ]
  },
  {
   "cell_type": "code",
   "execution_count": 50,
   "metadata": {},
   "outputs": [
    {
     "data": {
      "text/plain": [
       "2.8284271247461903"
      ]
     },
     "execution_count": 50,
     "metadata": {},
     "output_type": "execute_result"
    }
   ],
   "source": [
    "# S.No.16 : distance between the points (x1,y1) and (x2, y2)\n",
    "import math\n",
    "def compute_distance(x1, y1, x2, y2):\n",
    "    distance = (x2 - x1)*(x2 - x1) + (y2 - y1)*(y2 - y1)\n",
    "    return math.sqrt(distance);\n",
    "\n",
    "compute_distance(1, 2, 3, 4)"
   ]
  },
  {
   "cell_type": "code",
   "execution_count": 59,
   "metadata": {},
   "outputs": [
    {
     "name": "stdout",
     "output_type": "stream",
     "text": [
      "24.0\n"
     ]
    }
   ],
   "source": [
    "# S.No. 17 : convert height (in feet and inches) to centimetres\n",
    "def conversion(height):\n",
    "    # 1st converting height from feet to inches\n",
    "    height_in_in = (int(height) * 12) + (height-int(height)) * 12\n",
    "    # now converting from inches to cm\n",
    "    height_in_cm = 2.54 * height_in_in\n",
    "    return height_in_cm;\n",
    "print(conversion(2.0))"
   ]
  },
  {
   "cell_type": "code",
   "execution_count": 63,
   "metadata": {},
   "outputs": [
    {
     "name": "stdout",
     "output_type": "stream",
     "text": [
      "6.4031242374328485\n"
     ]
    }
   ],
   "source": [
    "# S.No. 18 : calculate the hypotenuse of a right angled triangle\n",
    "def measure_hypotenuse(a, b):\n",
    "    c = a*a + b*b\n",
    "    return math.sqrt(c);\n",
    "\n",
    "print (measure_hypotenuse(4,5))"
   ]
  },
  {
   "cell_type": "code",
   "execution_count": 65,
   "metadata": {},
   "outputs": [
    {
     "name": "stdout",
     "output_type": "stream",
     "text": [
      "(24, 0.6666666666666666, 0.0003787878787878788)\n"
     ]
    }
   ],
   "source": [
    "# S.No. 19 : convert distance (in feet) to inches, yards, and miles.\n",
    "#1 feet = 12 inches, 3 feet = 1 yard, 5280 feet = 1 mile\n",
    "def distance_conversion(distance):\n",
    "    distance_in = distance * 12\n",
    "    distance_yrd = distance / 3\n",
    "    distance_mile = distance / 5280\n",
    "    return distance_in, distance_yrd, distance_mile;\n",
    "print(distance_conversion(2))"
   ]
  },
  {
   "cell_type": "code",
   "execution_count": 73,
   "metadata": {},
   "outputs": [
    {
     "name": "stdout",
     "output_type": "stream",
     "text": [
      "3600\n"
     ]
    }
   ],
   "source": [
    "# S.No. 20 : convert all units of time into seconds.\n",
    "def convert_into_seconds(hours, minutes):\n",
    "    seconds_from_hour = 60*60*hours\n",
    "    seconds_from_minutes = 60*minutes\n",
    "    return seconds_from_hour + seconds_from_minutes;\n",
    "\n",
    "print(convert_into_seconds(1, 0))"
   ]
  },
  {
   "cell_type": "code",
   "execution_count": 103,
   "metadata": {},
   "outputs": [
    {
     "name": "stdout",
     "output_type": "stream",
     "text": [
      "0 Days, 0 Hourse, 5 Minutes\n"
     ]
    }
   ],
   "source": [
    "# S.No. 21 : convert seconds to day, hour, minutes and seconds\n",
    "def convert_day_time(seconds):\n",
    "    minutes = int(seconds / 60)\n",
    "    hours = int(minutes / 60)\n",
    "    days = int(hours / 24)\n",
    "    print(str(days) + \" Days, \" + str(hours) + \" Hourse, \" + str(minutes) + \" Minutes\")\n",
    "\n",
    "convert_day_time (300)"
   ]
  },
  {
   "cell_type": "code",
   "execution_count": 153,
   "metadata": {},
   "outputs": [
    {
     "name": "stdout",
     "output_type": "stream",
     "text": [
      "50.0\n"
     ]
    }
   ],
   "source": [
    "# S.No. 22 : calculate body mass index.\n",
    "def calculate_BMI (mass, height):\n",
    "    BMI = mass / height*height\n",
    "    return BMI;\n",
    "print(calculate_BMI(95, 1))"
   ]
  },
  {
   "cell_type": "code",
   "execution_count": 191,
   "metadata": {},
   "outputs": [
    {
     "name": "stdout",
     "output_type": "stream",
     "text": [
      "Enter number :25\n",
      "325\n"
     ]
    }
   ],
   "source": [
    "# S.No.24 : sum of the first n positive integers\n",
    "\n",
    "n= int(input('Enter number :'))\n",
    "m = n + 1\n",
    "sum = 0\n",
    "for num in range(m):\n",
    "    sum = sum + num\n",
    "print (sum)"
   ]
  },
  {
   "cell_type": "code",
   "execution_count": 192,
   "metadata": {},
   "outputs": [
    {
     "name": "stdout",
     "output_type": "stream",
     "text": [
      "5\n",
      "7\n",
      "11\n",
      "16\n",
      "16\n"
     ]
    }
   ],
   "source": [
    "# S.No. 25 : calculate the sum of the digits in an integer\n",
    "sumx = 0\n",
    "y = '5245'\n",
    "index=0\n",
    "\n",
    "for x in y:\n",
    "    sumx = sumx+int(y[index])\n",
    "    index+=1\n",
    "    print (sumx)\n",
    "print(sumx)"
   ]
  },
  {
   "cell_type": "code",
   "execution_count": 194,
   "metadata": {},
   "outputs": [
    {
     "name": "stdout",
     "output_type": "stream",
     "text": [
      "The decimal value of 344 is:\n",
      "0b101011000 in binary.\n",
      "0o530 in octal.\n",
      "0x158 in hexadecimal.\n"
     ]
    }
   ],
   "source": [
    "#S.No. 26 : Write a Python program to convert an integer to Binary, Octal andHexadecimal numbers\n",
    "\n",
    "dec = 344\n",
    "\n",
    "print(\"The decimal value of\",dec,\"is:\")\n",
    "print(bin(dec),\"in binary.\")\n",
    "print(oct(dec),\"in octal.\")\n",
    "print(hex(dec),\"in hexadecimal.\")"
   ]
  },
  {
   "cell_type": "code",
   "execution_count": 195,
   "metadata": {},
   "outputs": [
    {
     "name": "stdout",
     "output_type": "stream",
     "text": [
      "Value of of the decimal number is  25\n"
     ]
    }
   ],
   "source": [
    "# S. No. 27 :  convert binary number to Decimal number\n",
    "b_num = list('11001')\n",
    "value = 0\n",
    "\n",
    "for i in range(len(b_num)):\n",
    "    digit = b_num.pop()\n",
    "    if digit == '1':\n",
    "        value = value +  pow(i, 2)\n",
    "print(\"Value of of the decimal number is \", value)"
   ]
  },
  {
   "cell_type": "code",
   "execution_count": 193,
   "metadata": {},
   "outputs": [
    {
     "name": "stdout",
     "output_type": "stream",
     "text": [
      "74\n"
     ]
    }
   ],
   "source": [
    "# S.No. 28 : convert Octal number to Decimal number\n",
    "def convert_octal(octal_number):\n",
    "    my_list = list(octal_number)\n",
    "    my_reverse_list = my_list[::-1]\n",
    "    octa = 0\n",
    "    decimal_number = 0\n",
    "    for i in my_reverse_list:\n",
    "#        decimal_number = decimal_number + int(i) * pow(8, octa)\n",
    "        decimal_number += int(i) * pow(8, octa)\n",
    "        octa += 1\n",
    "    \n",
    "    print(decimal_number)\n",
    "convert_octal('112')"
   ]
  },
  {
   "cell_type": "code",
   "execution_count": 130,
   "metadata": {},
   "outputs": [
    {
     "name": "stdout",
     "output_type": "stream",
     "text": [
      "274\n"
     ]
    }
   ],
   "source": [
    "# S.No. 29 : convert Octal number to Decimal number\n",
    "def convert_hexa_decimal(hexa_decimal_number):\n",
    "    my_list = list(hexa_decimal_number)\n",
    "    my_reverse_list = my_list[::-1]\n",
    "    hexa = 0\n",
    "    decimal_number = 0\n",
    "    for i in my_reverse_list:\n",
    "#        decimal_number = decimal_number + int(i) * pow(8, octa)\n",
    "        decimal_number += int(i) * pow(16, hexa)\n",
    "        hexa += 1\n",
    "    \n",
    "    print(decimal_number)\n",
    "convert_hexa_decimal('112')"
   ]
  },
  {
   "cell_type": "code",
   "execution_count": 149,
   "metadata": {},
   "outputs": [
    {
     "name": "stdout",
     "output_type": "stream",
     "text": [
      "1\n"
     ]
    }
   ],
   "source": [
    "# S.No. 30 : count the number occurrence of a specific character in a string\n",
    "def character_counter(count_character, my_string):\n",
    "    counter = 0\n",
    "    for i in my_string:\n",
    "        if i == count_character:\n",
    "            counter += 1\n",
    "    return counter;\n",
    "\n",
    "print(character_counter('f', 'faizan'))"
   ]
  },
  {
   "cell_type": "code",
   "execution_count": 196,
   "metadata": {},
   "outputs": [
    {
     "name": "stdout",
     "output_type": "stream",
     "text": [
      "1\n",
      "2\n"
     ]
    }
   ],
   "source": [
    "# S. No. 31 : compute the greatest common divisor (GCD) of two positive integers\n",
    "\n",
    "def gcd(x, y):\n",
    "    gcd = 1\n",
    "    \n",
    "    if x % y == 0:\n",
    "        return y\n",
    "    \n",
    "    for k in range(int(y / 2), 0, -1):\n",
    "        if x % k == 0 and y % k == 0:\n",
    "            gcd = k\n",
    "            break  \n",
    "    return gcd\n",
    "\n",
    "print(gcd(12, 17))\n",
    "print(gcd(4, 6))"
   ]
  },
  {
   "cell_type": "code",
   "execution_count": 197,
   "metadata": {},
   "outputs": [
    {
     "name": "stdout",
     "output_type": "stream",
     "text": [
      "12\n",
      "255\n"
     ]
    }
   ],
   "source": [
    "# S. No. 32 : get the least common multiple (LCM) of two positive integer\n",
    "def lcm(x, y):\n",
    "   if x > y:\n",
    "       z = x\n",
    "   else:\n",
    "       z = y\n",
    "\n",
    "   while(True):\n",
    "       if((z % x == 0) and (z % y == 0)):\n",
    "           lcm = z\n",
    "           break\n",
    "       z += 1\n",
    "\n",
    "   return lcm\n",
    "print(lcm(4, 6))\n",
    "print(lcm(15, 17))"
   ]
  },
  {
   "cell_type": "code",
   "execution_count": 198,
   "metadata": {},
   "outputs": [
    {
     "name": "stdout",
     "output_type": "stream",
     "text": [
      "first name : 2\n",
      "last name: 3\n",
      "3 2\n"
     ]
    }
   ],
   "source": [
    "# S. No. 33 : Write a Python program which accepts the user's first and last name and\n",
    "#print them in reverse order with a space between them\n",
    "\n",
    "fl = input(\"first name : \")\n",
    "ll = input ('last name: ')\n",
    "print(ll+\" \"+ fl)"
   ]
  },
  {
   "cell_type": "code",
   "execution_count": 199,
   "metadata": {},
   "outputs": [
    {
     "name": "stdout",
     "output_type": "stream",
     "text": [
      "the count of vowel is 6\n",
      "the count of vowel is 14\n"
     ]
    }
   ],
   "source": [
    "# S. No. 34 : Input a text and count the occurrences of vowels and consonant\n",
    "\n",
    "a= ' rehan shan muhammad'\n",
    "\n",
    "b = 0\n",
    "c =0\n",
    "\n",
    "for x in a:\n",
    "    if x == 'a' or x=='i' or x == 'e' or x =='o' or x== 'u':\n",
    "        b +=1\n",
    "    else:\n",
    "        c+=1\n",
    "print ('the count of vowel is', str(b))\n",
    "print ('the count of vowel is', str(c))"
   ]
  },
  {
   "cell_type": "code",
   "execution_count": 176,
   "metadata": {},
   "outputs": [
    {
     "name": "stdout",
     "output_type": "stream",
     "text": [
      "2\n"
     ]
    }
   ],
   "source": [
    "# S.No. 35 : number of notes (Sample of notes: 10, 20, 50, 100, 500, and 1000 ) against an given amount\n",
    "\n",
    "def note_count(amount):\n",
    "    counter = 0\n",
    "    denomination = [1000, 500, 100, 50, 20, 10]\n",
    "    for i in range(6):\n",
    "        q = denomination[i]\n",
    "        counter += int(amount / q)\n",
    "        amount = int(amount % q)\n",
    "        \n",
    "    return counter;\n",
    "\n",
    "print(note_count(600))"
   ]
  },
  {
   "cell_type": "code",
   "execution_count": 201,
   "metadata": {},
   "outputs": [
    {
     "name": "stdout",
     "output_type": "stream",
     "text": [
      "Wow you got a palindrome\n"
     ]
    }
   ],
   "source": [
    "# S. No. 36 : check whether given input is palindrome or not \n",
    "a = \"abba\"\n",
    "if a[::-1]== a:\n",
    "    print(\"Wow! you got a palindrome\")\n",
    "else:\n",
    "    print ('No')\n",
    "    "
   ]
  },
  {
   "cell_type": "code",
   "execution_count": 202,
   "metadata": {},
   "outputs": [
    {
     "name": "stdout",
     "output_type": "stream",
     "text": [
      "(23232, 4)\n",
      "(9339, 2)\n"
     ]
    }
   ],
   "source": [
    "# S.No. 37 : reverse the digits of a given number and add it to the original,\n",
    "# If the sum is not a palindrome repeat this procedure\n",
    "\n",
    "def revnumber(a):\n",
    "    s=0\n",
    "    while True:\n",
    "        k = str(a)\n",
    "        if k == k[::-1]:\n",
    "            break\n",
    "        else:\n",
    "            m =int(k[::-1])\n",
    "            a +=m\n",
    "            s +=1\n",
    "    return a,s\n",
    "    \n",
    "print (revnumber(678))\n",
    "print (revnumber(1473))\n"
   ]
  },
  {
   "cell_type": "code",
   "execution_count": 203,
   "metadata": {},
   "outputs": [
    {
     "name": "stdout",
     "output_type": "stream",
     "text": [
      "[1, 1, 2, 3, 5, 8, 13, 21, 34]\n"
     ]
    }
   ],
   "source": [
    "# S. No. 38 :  get the Fibonacci series between 0 to 50 \n",
    "a = [1,1]\n",
    "\n",
    "i = 0\n",
    "j = 1\n",
    "\n",
    "for c in a:\n",
    "    if len(a) == 9:\n",
    "        break\n",
    "    else:\n",
    "        c=a[i] + a[j]\n",
    "        a.append (c)\n",
    "        i +=1\n",
    "        j +=1\n",
    "print (a)"
   ]
  },
  {
   "cell_type": "code",
   "execution_count": 205,
   "metadata": {},
   "outputs": [
    {
     "name": "stdout",
     "output_type": "stream",
     "text": [
      "2  x  1  = 2\n",
      "2  x  2  = 4\n",
      "2  x  3  = 6\n",
      "2  x  4  = 8\n",
      "2  x  5  = 10\n",
      "2  x  6  = 12\n",
      "2  x  7  = 14\n",
      "2  x  8  = 16\n",
      "2  x  9  = 18\n",
      "2  x  10  = 20\n",
      "None\n",
      "10  x  1  = 10\n",
      "10  x  2  = 20\n",
      "10  x  3  = 30\n",
      "10  x  4  = 40\n",
      "10  x  5  = 50\n",
      "10  x  6  = 60\n",
      "10  x  7  = 70\n",
      "10  x  8  = 80\n",
      "10  x  9  = 90\n",
      "10  x  10  = 100\n",
      "None\n"
     ]
    }
   ],
   "source": [
    "# S. No. 39 : create the multiplication table (from 1 to 10) of\n",
    "def table(a):\n",
    "\n",
    "    for i in range(1,11):\n",
    "        print (a, \" x \",i,\" =\",  a*i)\n",
    "print (table(2))\n",
    "print (table(10))"
   ]
  },
  {
   "cell_type": "code",
   "execution_count": 206,
   "metadata": {},
   "outputs": [
    {
     "name": "stdout",
     "output_type": "stream",
     "text": [
      "2 6 ['P', 'y', 't', 'h', 'o', 'n']\n"
     ]
    }
   ],
   "source": [
    "# S. No. 40 : accepts a string and calculate the number of digits and letters Sample Data : Python 3.2,\n",
    "# Expected Output : Letters 6, Digits 2\n",
    "s = 'Python 3.2'\n",
    "a = []\n",
    "d=0\n",
    "l=0\n",
    "for i in s:\n",
    "    if i.isdigit():\n",
    "        d+=1\n",
    "        \n",
    "    elif i.isalpha():\n",
    "        l+=1\n",
    "        a.append(i)\n",
    "print (d,l,a)"
   ]
  },
  {
   "cell_type": "code",
   "execution_count": 209,
   "metadata": {},
   "outputs": [
    {
     "name": "stdout",
     "output_type": "stream",
     "text": [
      "\n",
      "* \n",
      "* * \n",
      "* * * \n",
      "* * * * \n",
      "* * * * * \n",
      "* * * * \n",
      "* * * \n",
      "* * \n",
      "* \n"
     ]
    }
   ],
   "source": [
    "# S. No. 41: construct the following pattern, using a nested for loop\n",
    "n=5;\n",
    "for i in range(n):\n",
    "    for j in range(i):\n",
    "        print ('* ', end=\"\")\n",
    "    print('')\n",
    "\n",
    "for i in range(n,0,-1):\n",
    "    for j in range(i):\n",
    "        print('* ', end=\"\")\n",
    "    print('')"
   ]
  },
  {
   "cell_type": "code",
   "execution_count": 213,
   "metadata": {},
   "outputs": [
    {
     "name": "stdout",
     "output_type": "stream",
     "text": [
      "\n",
      "1\n",
      "22\n",
      "333\n",
      "4444\n",
      "55555\n",
      "4444\n",
      "333\n",
      "22\n",
      "1\n"
     ]
    }
   ],
   "source": [
    "# S. No. 42 : construct the following pattern, using a nested for loop\n",
    "n = 5;\n",
    "for i in range(n):\n",
    "    for j in range(i):\n",
    "        print (i, end = \"\")\n",
    "    print('')\n",
    "\n",
    "for i in range(n, 0, -1):\n",
    "    for j in range(i):\n",
    "        print(i, end=\"\")\n",
    "    print('')"
   ]
  },
  {
   "cell_type": "code",
   "execution_count": 216,
   "metadata": {},
   "outputs": [
    {
     "name": "stdout",
     "output_type": "stream",
     "text": [
      "\n",
      "1\n",
      "22\n",
      "333\n",
      "4444\n",
      "55555\n",
      "666666\n",
      "7777777\n",
      "88888888\n",
      "999999999\n"
     ]
    }
   ],
   "source": [
    "# S. No. 43 : construct the following pattern, using a nested loop number.\n",
    "n = 10;\n",
    "for i in range(n):\n",
    "    for j in range(i):\n",
    "        print (i, end = \"\")\n",
    "    print('')"
   ]
  },
  {
   "cell_type": "code",
   "execution_count": null,
   "metadata": {},
   "outputs": [],
   "source": []
  }
 ],
 "metadata": {
  "kernelspec": {
   "display_name": "Python 3",
   "language": "python",
   "name": "python3"
  },
  "language_info": {
   "codemirror_mode": {
    "name": "ipython",
    "version": 3
   },
   "file_extension": ".py",
   "mimetype": "text/x-python",
   "name": "python",
   "nbconvert_exporter": "python",
   "pygments_lexer": "ipython3",
   "version": "3.7.3"
  }
 },
 "nbformat": 4,
 "nbformat_minor": 2
}
